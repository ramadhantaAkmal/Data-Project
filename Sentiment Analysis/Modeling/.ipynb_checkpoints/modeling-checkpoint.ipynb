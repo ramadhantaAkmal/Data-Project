{
 "cells": [
  {
   "cell_type": "markdown",
   "metadata": {},
   "source": [
    "# Kelompok 7\n",
    "* Mohamad Akmal Ramadhanta"
   ]
  },
  {
   "cell_type": "markdown",
   "metadata": {},
   "source": [
    "Dalam pembuatan model ini saya menggunakan model multinomial Naive Bayes"
   ]
  },
  {
   "cell_type": "markdown",
   "metadata": {},
   "source": [
    "Mengimport library yang dibutuhkan"
   ]
  },
  {
   "cell_type": "code",
   "execution_count": 1,
   "metadata": {
    "id": "OQ6ngU68m8bn"
   },
   "outputs": [],
   "source": [
    "import warnings\n",
    "warnings.filterwarnings('ignore')\n",
    "import string\n",
    "import numpy as np\n",
    "\n",
    "import pandas as pd"
   ]
  },
  {
   "cell_type": "code",
   "execution_count": 2,
   "metadata": {
    "id": "I2Ei2d9QnG2s"
   },
   "outputs": [],
   "source": [
    "#Meload data\n",
    "df=pd.read_csv(\"comment_iklanGojek_preprocessed.csv\")"
   ]
  },
  {
   "cell_type": "code",
   "execution_count": 3,
   "metadata": {
    "colab": {
     "base_uri": "https://localhost:8080/",
     "height": 423
    },
    "id": "HJscRap1o__7",
    "outputId": "208e41ec-44e3-4775-8158-7663ca1b8594"
   },
   "outputs": [
    {
     "data": {
      "text/html": [
       "<div>\n",
       "<style scoped>\n",
       "    .dataframe tbody tr th:only-of-type {\n",
       "        vertical-align: middle;\n",
       "    }\n",
       "\n",
       "    .dataframe tbody tr th {\n",
       "        vertical-align: top;\n",
       "    }\n",
       "\n",
       "    .dataframe thead th {\n",
       "        text-align: right;\n",
       "    }\n",
       "</style>\n",
       "<table border=\"1\" class=\"dataframe\">\n",
       "  <thead>\n",
       "    <tr style=\"text-align: right;\">\n",
       "      <th></th>\n",
       "      <th>Unnamed: 0</th>\n",
       "      <th>text_clean</th>\n",
       "      <th>text_preprocessed</th>\n",
       "      <th>Polarity</th>\n",
       "    </tr>\n",
       "  </thead>\n",
       "  <tbody>\n",
       "    <tr>\n",
       "      <th>0</th>\n",
       "      <td>0</td>\n",
       "      <td>hehehe asli ini iklan the best bgt  ngalahin y...</td>\n",
       "      <td>['hehehe', 'asli', 'iklan', 'the', 'best', 'bg...</td>\n",
       "      <td>Positif</td>\n",
       "    </tr>\n",
       "    <tr>\n",
       "      <th>1</th>\n",
       "      <td>1</td>\n",
       "      <td>ini yg bikin skenario dan katakatanya siapa si...</td>\n",
       "      <td>['yg', 'bikin', 'skenario', 'katakatanya', 'si...</td>\n",
       "      <td>Positif</td>\n",
       "    </tr>\n",
       "    <tr>\n",
       "      <th>2</th>\n",
       "      <td>2</td>\n",
       "      <td>sumpah iklan nya keren bgt selalu suka kalo ar...</td>\n",
       "      <td>['sumpah', 'iklan', 'nya', 'keren', 'bgt', 'su...</td>\n",
       "      <td>Positif</td>\n",
       "    </tr>\n",
       "    <tr>\n",
       "      <th>3</th>\n",
       "      <td>3</td>\n",
       "      <td>dalam hal apapun boriel selalu memberikan yang...</td>\n",
       "      <td>['apa', 'boriel', 'baik', 'nikmat', 'orang', '...</td>\n",
       "      <td>Positif</td>\n",
       "    </tr>\n",
       "    <tr>\n",
       "      <th>4</th>\n",
       "      <td>4</td>\n",
       "      <td>cinematic dapet comedy dapet punch line dapet ...</td>\n",
       "      <td>['cinematic', 'dapet', 'comedy', 'dapet', 'pun...</td>\n",
       "      <td>Positif</td>\n",
       "    </tr>\n",
       "    <tr>\n",
       "      <th>...</th>\n",
       "      <td>...</td>\n",
       "      <td>...</td>\n",
       "      <td>...</td>\n",
       "      <td>...</td>\n",
       "    </tr>\n",
       "    <tr>\n",
       "      <th>392</th>\n",
       "      <td>392</td>\n",
       "      <td>kren bang bor lanjutt lah</td>\n",
       "      <td>['kren', 'bang', 'bor', 'lanjutt']</td>\n",
       "      <td>Netral</td>\n",
       "    </tr>\n",
       "    <tr>\n",
       "      <th>393</th>\n",
       "      <td>393</td>\n",
       "      <td>njiss alus si boriel apa aja cocok dia mah yas...</td>\n",
       "      <td>['njiss', 'alus', 'si', 'boriel', 'aja', 'coco...</td>\n",
       "      <td>Positif</td>\n",
       "    </tr>\n",
       "    <tr>\n",
       "      <th>394</th>\n",
       "      <td>394</td>\n",
       "      <td>kaarena seepaaaatuuu aaaaakuuuu diiii siiniiii...</td>\n",
       "      <td>['kaarena', 'seepaaaatuuu', 'aaaaakuuuu', 'dii...</td>\n",
       "      <td>Positif</td>\n",
       "    </tr>\n",
       "    <tr>\n",
       "      <th>395</th>\n",
       "      <td>395</td>\n",
       "      <td>edaaannn iklannya udah kyak short movie comedy...</td>\n",
       "      <td>['edaaannn', 'iklan', 'udah', 'kyak', 'short',...</td>\n",
       "      <td>Positif</td>\n",
       "    </tr>\n",
       "    <tr>\n",
       "      <th>396</th>\n",
       "      <td>396</td>\n",
       "      <td>hahahaha ariel mantap</td>\n",
       "      <td>['hahahaha', 'ariel', 'mantap']</td>\n",
       "      <td>Positif</td>\n",
       "    </tr>\n",
       "  </tbody>\n",
       "</table>\n",
       "<p>397 rows × 4 columns</p>\n",
       "</div>"
      ],
      "text/plain": [
       "     Unnamed: 0                                         text_clean  \\\n",
       "0             0  hehehe asli ini iklan the best bgt  ngalahin y...   \n",
       "1             1  ini yg bikin skenario dan katakatanya siapa si...   \n",
       "2             2  sumpah iklan nya keren bgt selalu suka kalo ar...   \n",
       "3             3  dalam hal apapun boriel selalu memberikan yang...   \n",
       "4             4  cinematic dapet comedy dapet punch line dapet ...   \n",
       "..          ...                                                ...   \n",
       "392         392                          kren bang bor lanjutt lah   \n",
       "393         393  njiss alus si boriel apa aja cocok dia mah yas...   \n",
       "394         394  kaarena seepaaaatuuu aaaaakuuuu diiii siiniiii...   \n",
       "395         395  edaaannn iklannya udah kyak short movie comedy...   \n",
       "396         396                              hahahaha ariel mantap   \n",
       "\n",
       "                                     text_preprocessed Polarity  \n",
       "0    ['hehehe', 'asli', 'iklan', 'the', 'best', 'bg...  Positif  \n",
       "1    ['yg', 'bikin', 'skenario', 'katakatanya', 'si...  Positif  \n",
       "2    ['sumpah', 'iklan', 'nya', 'keren', 'bgt', 'su...  Positif  \n",
       "3    ['apa', 'boriel', 'baik', 'nikmat', 'orang', '...  Positif  \n",
       "4    ['cinematic', 'dapet', 'comedy', 'dapet', 'pun...  Positif  \n",
       "..                                                 ...      ...  \n",
       "392                 ['kren', 'bang', 'bor', 'lanjutt']   Netral  \n",
       "393  ['njiss', 'alus', 'si', 'boriel', 'aja', 'coco...  Positif  \n",
       "394  ['kaarena', 'seepaaaatuuu', 'aaaaakuuuu', 'dii...  Positif  \n",
       "395  ['edaaannn', 'iklan', 'udah', 'kyak', 'short',...  Positif  \n",
       "396                    ['hahahaha', 'ariel', 'mantap']  Positif  \n",
       "\n",
       "[397 rows x 4 columns]"
      ]
     },
     "execution_count": 3,
     "metadata": {},
     "output_type": "execute_result"
    }
   ],
   "source": [
    "df"
   ]
  },
  {
   "cell_type": "code",
   "execution_count": 4,
   "metadata": {
    "id": "LitY-CwppDLw"
   },
   "outputs": [],
   "source": [
    " #menghapus kolom yang tak terpakai\n",
    " df.drop(['Unnamed: 0'], axis=1,inplace=True)"
   ]
  },
  {
   "cell_type": "code",
   "execution_count": 5,
   "metadata": {
    "id": "Rs0RudanqqZb"
   },
   "outputs": [],
   "source": [
    "#Mengimport library CountVectorizer untuk mengtransform data\n",
    "from sklearn.feature_extraction.text import CountVectorizer\n",
    "#Mengimport libray MultinomialNB untuk pembuatan model\n",
    "from sklearn.naive_bayes import MultinomialNB\n",
    "#Meimport library metrics untuk menghitung akurasi model\n",
    "from sklearn.metrics import confusion_matrix, accuracy_score, classification_report\n",
    "#Meimport library mode_selection\n",
    "from sklearn.model_selection import train_test_split"
   ]
  },
  {
   "cell_type": "markdown",
   "metadata": {
    "id": "KP0GCAsgGAOw"
   },
   "source": [
    "Transformasi data menjadi angka Menggunakan CountVectorizer"
   ]
  },
  {
   "cell_type": "code",
   "execution_count": 6,
   "metadata": {
    "id": "GF7NWuWclfrG"
   },
   "outputs": [],
   "source": [
    "cv = CountVectorizer(ngram_range = (1,1))\n",
    "text_counts = cv.fit_transform(df['text_preprocessed'].values.astype('U'))"
   ]
  },
  {
   "cell_type": "markdown",
   "metadata": {
    "id": "l-aVo1vgGcgz"
   },
   "source": [
    "split data train dan test dengan function train_test_split()"
   ]
  },
  {
   "cell_type": "code",
   "execution_count": 7,
   "metadata": {
    "id": "Ica5tSJNqK7H"
   },
   "outputs": [],
   "source": [
    "X_train, X_test, Y_train, Y_test = train_test_split(text_counts, df['Polarity'], test_size=0.2, random_state=5)"
   ]
  },
  {
   "cell_type": "markdown",
   "metadata": {
    "id": "puaeYqipG0cL"
   },
   "source": [
    "Menggunakan SMOTE dari library imblearn untuk menyeimbangkan data"
   ]
  },
  {
   "cell_type": "code",
   "execution_count": 8,
   "metadata": {
    "id": "0ySCpQkpuHCS"
   },
   "outputs": [],
   "source": [
    "from imblearn.over_sampling import SMOTE\n",
    "smote = SMOTE('minority')\n",
    "X_smote, y_smote = smote.fit_resample(X_train,Y_train)"
   ]
  },
  {
   "cell_type": "markdown",
   "metadata": {
    "id": "_wWzzO5xHRS-"
   },
   "source": [
    "Membuat instance model MultinomialNB"
   ]
  },
  {
   "cell_type": "code",
   "execution_count": 9,
   "metadata": {
    "colab": {
     "base_uri": "https://localhost:8080/"
    },
    "id": "eFXYLUzAqfZL",
    "outputId": "d04c9700-200a-4d2e-ddf0-d58f4b985c35"
   },
   "outputs": [
    {
     "data": {
      "text/plain": [
       "MultinomialNB()"
      ]
     },
     "execution_count": 9,
     "metadata": {},
     "output_type": "execute_result"
    }
   ],
   "source": [
    "MNB = MultinomialNB()\n",
    "MNB.fit(X_smote, y_smote)"
   ]
  },
  {
   "cell_type": "markdown",
   "metadata": {
    "id": "IVNzZqVTHsaH"
   },
   "source": [
    "Melakukan prediksi menggunakan model dan menghitung akurasinya"
   ]
  },
  {
   "cell_type": "code",
   "execution_count": 10,
   "metadata": {
    "id": "mTLGpeNCqkdb"
   },
   "outputs": [],
   "source": [
    "predicted = MNB.predict(X_test)\n",
    "accuracy_score = accuracy_score(predicted, Y_test)"
   ]
  },
  {
   "cell_type": "code",
   "execution_count": 11,
   "metadata": {
    "colab": {
     "base_uri": "https://localhost:8080/"
    },
    "id": "9faYqWqdqwUH",
    "outputId": "cc9a92da-61b7-4737-eb38-b94a62d45972"
   },
   "outputs": [
    {
     "name": "stdout",
     "output_type": "stream",
     "text": [
      "Model Accuracy:\n",
      " 0.5875\n",
      "\n",
      "Confusion matrix:\n",
      " [[ 2 12 11]\n",
      " [ 1  2  1]\n",
      " [ 2  6 43]]\n",
      "\n",
      "Classification report:\n",
      "               precision    recall  f1-score   support\n",
      "\n",
      "     Negatif       0.40      0.08      0.13        25\n",
      "      Netral       0.10      0.50      0.17         4\n",
      "     Positif       0.78      0.84      0.81        51\n",
      "\n",
      "    accuracy                           0.59        80\n",
      "   macro avg       0.43      0.47      0.37        80\n",
      "weighted avg       0.63      0.59      0.57        80\n",
      "\n"
     ]
    }
   ],
   "source": [
    "confusion_matrix = confusion_matrix(predicted, Y_test)\n",
    "classification = classification_report(predicted, Y_test)\n",
    "\n",
    "# print(\"Cross Validation Mean Score:\" \"\\n\", scores.mean())\n",
    "# print()\n",
    "print(\"Model Accuracy:\" \"\\n\", accuracy_score)\n",
    "print()\n",
    "print(\"Confusion matrix:\" \"\\n\", confusion_matrix)\n",
    "print()\n",
    "print(\"Classification report:\" \"\\n\", classification) "
   ]
  },
  {
   "cell_type": "markdown",
   "metadata": {
    "id": "ItexGGfVH01e"
   },
   "source": [
    "Mencoba mengetes model yang telah dibuat"
   ]
  },
  {
   "cell_type": "code",
   "execution_count": 13,
   "metadata": {
    "colab": {
     "base_uri": "https://localhost:8080/"
    },
    "id": "yNcToFoXEvnH",
    "outputId": "124ad1dc-528f-481a-ab97-4a32b8e69a89"
   },
   "outputs": [
    {
     "data": {
      "text/plain": [
       "array(['Negatif'], dtype='<U7')"
      ]
     },
     "execution_count": 13,
     "metadata": {},
     "output_type": "execute_result"
    }
   ],
   "source": [
    "MNB.predict(cv.transform(['iklan ini jelek sekali']))"
   ]
  },
  {
   "cell_type": "code",
   "execution_count": 14,
   "metadata": {},
   "outputs": [
    {
     "data": {
      "text/plain": [
       "array(['Positif'], dtype='<U7')"
      ]
     },
     "execution_count": 14,
     "metadata": {},
     "output_type": "execute_result"
    }
   ],
   "source": [
    "MNB.predict(cv.transform(['iklan ini bagus sekali']))"
   ]
  },
  {
   "cell_type": "code",
   "execution_count": 15,
   "metadata": {},
   "outputs": [
    {
     "data": {
      "text/plain": [
       "array(['Positif'], dtype='<U7')"
      ]
     },
     "execution_count": 15,
     "metadata": {},
     "output_type": "execute_result"
    }
   ],
   "source": [
    "MNB.predict(cv.transform(['iklan ini biasa']))"
   ]
  },
  {
   "cell_type": "code",
   "execution_count": null,
   "metadata": {},
   "outputs": [],
   "source": []
  }
 ],
 "metadata": {
  "colab": {
   "collapsed_sections": [],
   "name": "modeling.ipynb",
   "provenance": []
  },
  "kernelspec": {
   "display_name": "Python 3 (ipykernel)",
   "language": "python",
   "name": "python3"
  },
  "language_info": {
   "codemirror_mode": {
    "name": "ipython",
    "version": 3
   },
   "file_extension": ".py",
   "mimetype": "text/x-python",
   "name": "python",
   "nbconvert_exporter": "python",
   "pygments_lexer": "ipython3",
   "version": "3.8.12"
  }
 },
 "nbformat": 4,
 "nbformat_minor": 1
}
