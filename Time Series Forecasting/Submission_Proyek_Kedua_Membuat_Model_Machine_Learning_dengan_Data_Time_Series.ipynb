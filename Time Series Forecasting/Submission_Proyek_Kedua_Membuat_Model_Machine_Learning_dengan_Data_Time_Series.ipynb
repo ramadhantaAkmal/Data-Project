{
  "nbformat": 4,
  "nbformat_minor": 0,
  "metadata": {
    "colab": {
      "provenance": [],
      "collapsed_sections": []
    },
    "kernelspec": {
      "name": "python3",
      "display_name": "Python 3"
    },
    "language_info": {
      "name": "python"
    },
    "accelerator": "GPU",
    "gpuClass": "standard"
  },
  "cells": [
    {
      "cell_type": "markdown",
      "source": [
        "# Import Library"
      ],
      "metadata": {
        "id": "axjLsvuqN6c6"
      }
    },
    {
      "cell_type": "code",
      "execution_count": 1,
      "metadata": {
        "id": "O2sDkM94_P9h"
      },
      "outputs": [],
      "source": [
        "import numpy as np\n",
        "import pandas as pd\n",
        "import matplotlib.pyplot as plt\n",
        "import tensorflow as tf\n",
        "\n",
        "from keras.layers import Dense, LSTM\n",
        "from sklearn.preprocessing import MinMaxScaler\n",
        "from sklearn.model_selection import train_test_split\n",
        "from keras.callbacks import ReduceLROnPlateau\n",
        "from sklearn.impute import SimpleImputer"
      ]
    },
    {
      "cell_type": "markdown",
      "source": [
        "# Data Loading"
      ],
      "metadata": {
        "id": "bN8KB20SNsXc"
      }
    },
    {
      "cell_type": "code",
      "source": [
        "#source: https://www.kaggle.com/datasets/berkeleyearth/climate-change-earth-surface-temperature-data?select=GlobalTemperatures.csv\n",
        "df = pd.read_csv('GlobalLandTemperaturesByCountry.csv', header=0, index_col=0)\n",
        "df"
      ],
      "metadata": {
        "colab": {
          "base_uri": "https://localhost:8080/",
          "height": 455
        },
        "id": "-nZrcPh-_X7Q",
        "outputId": "a602bc7b-6466-4ec2-b360-7460ad87edb4"
      },
      "execution_count": 2,
      "outputs": [
        {
          "output_type": "execute_result",
          "data": {
            "text/plain": [
              "            AverageTemperature  AverageTemperatureUncertainty   Country\n",
              "dt                                                                     \n",
              "1743-11-01               4.384                          2.294     Åland\n",
              "1743-12-01                 NaN                            NaN     Åland\n",
              "1744-01-01                 NaN                            NaN     Åland\n",
              "1744-02-01                 NaN                            NaN     Åland\n",
              "1744-03-01                 NaN                            NaN     Åland\n",
              "...                        ...                            ...       ...\n",
              "2013-05-01              19.059                          1.022  Zimbabwe\n",
              "2013-06-01              17.613                          0.473  Zimbabwe\n",
              "2013-07-01              17.000                          0.453  Zimbabwe\n",
              "2013-08-01              19.759                          0.717  Zimbabwe\n",
              "2013-09-01                 NaN                            NaN  Zimbabwe\n",
              "\n",
              "[577462 rows x 3 columns]"
            ],
            "text/html": [
              "\n",
              "  <div id=\"df-2315ef44-c204-4683-997c-a491ed75feda\">\n",
              "    <div class=\"colab-df-container\">\n",
              "      <div>\n",
              "<style scoped>\n",
              "    .dataframe tbody tr th:only-of-type {\n",
              "        vertical-align: middle;\n",
              "    }\n",
              "\n",
              "    .dataframe tbody tr th {\n",
              "        vertical-align: top;\n",
              "    }\n",
              "\n",
              "    .dataframe thead th {\n",
              "        text-align: right;\n",
              "    }\n",
              "</style>\n",
              "<table border=\"1\" class=\"dataframe\">\n",
              "  <thead>\n",
              "    <tr style=\"text-align: right;\">\n",
              "      <th></th>\n",
              "      <th>AverageTemperature</th>\n",
              "      <th>AverageTemperatureUncertainty</th>\n",
              "      <th>Country</th>\n",
              "    </tr>\n",
              "    <tr>\n",
              "      <th>dt</th>\n",
              "      <th></th>\n",
              "      <th></th>\n",
              "      <th></th>\n",
              "    </tr>\n",
              "  </thead>\n",
              "  <tbody>\n",
              "    <tr>\n",
              "      <th>1743-11-01</th>\n",
              "      <td>4.384</td>\n",
              "      <td>2.294</td>\n",
              "      <td>Åland</td>\n",
              "    </tr>\n",
              "    <tr>\n",
              "      <th>1743-12-01</th>\n",
              "      <td>NaN</td>\n",
              "      <td>NaN</td>\n",
              "      <td>Åland</td>\n",
              "    </tr>\n",
              "    <tr>\n",
              "      <th>1744-01-01</th>\n",
              "      <td>NaN</td>\n",
              "      <td>NaN</td>\n",
              "      <td>Åland</td>\n",
              "    </tr>\n",
              "    <tr>\n",
              "      <th>1744-02-01</th>\n",
              "      <td>NaN</td>\n",
              "      <td>NaN</td>\n",
              "      <td>Åland</td>\n",
              "    </tr>\n",
              "    <tr>\n",
              "      <th>1744-03-01</th>\n",
              "      <td>NaN</td>\n",
              "      <td>NaN</td>\n",
              "      <td>Åland</td>\n",
              "    </tr>\n",
              "    <tr>\n",
              "      <th>...</th>\n",
              "      <td>...</td>\n",
              "      <td>...</td>\n",
              "      <td>...</td>\n",
              "    </tr>\n",
              "    <tr>\n",
              "      <th>2013-05-01</th>\n",
              "      <td>19.059</td>\n",
              "      <td>1.022</td>\n",
              "      <td>Zimbabwe</td>\n",
              "    </tr>\n",
              "    <tr>\n",
              "      <th>2013-06-01</th>\n",
              "      <td>17.613</td>\n",
              "      <td>0.473</td>\n",
              "      <td>Zimbabwe</td>\n",
              "    </tr>\n",
              "    <tr>\n",
              "      <th>2013-07-01</th>\n",
              "      <td>17.000</td>\n",
              "      <td>0.453</td>\n",
              "      <td>Zimbabwe</td>\n",
              "    </tr>\n",
              "    <tr>\n",
              "      <th>2013-08-01</th>\n",
              "      <td>19.759</td>\n",
              "      <td>0.717</td>\n",
              "      <td>Zimbabwe</td>\n",
              "    </tr>\n",
              "    <tr>\n",
              "      <th>2013-09-01</th>\n",
              "      <td>NaN</td>\n",
              "      <td>NaN</td>\n",
              "      <td>Zimbabwe</td>\n",
              "    </tr>\n",
              "  </tbody>\n",
              "</table>\n",
              "<p>577462 rows × 3 columns</p>\n",
              "</div>\n",
              "      <button class=\"colab-df-convert\" onclick=\"convertToInteractive('df-2315ef44-c204-4683-997c-a491ed75feda')\"\n",
              "              title=\"Convert this dataframe to an interactive table.\"\n",
              "              style=\"display:none;\">\n",
              "        \n",
              "  <svg xmlns=\"http://www.w3.org/2000/svg\" height=\"24px\"viewBox=\"0 0 24 24\"\n",
              "       width=\"24px\">\n",
              "    <path d=\"M0 0h24v24H0V0z\" fill=\"none\"/>\n",
              "    <path d=\"M18.56 5.44l.94 2.06.94-2.06 2.06-.94-2.06-.94-.94-2.06-.94 2.06-2.06.94zm-11 1L8.5 8.5l.94-2.06 2.06-.94-2.06-.94L8.5 2.5l-.94 2.06-2.06.94zm10 10l.94 2.06.94-2.06 2.06-.94-2.06-.94-.94-2.06-.94 2.06-2.06.94z\"/><path d=\"M17.41 7.96l-1.37-1.37c-.4-.4-.92-.59-1.43-.59-.52 0-1.04.2-1.43.59L10.3 9.45l-7.72 7.72c-.78.78-.78 2.05 0 2.83L4 21.41c.39.39.9.59 1.41.59.51 0 1.02-.2 1.41-.59l7.78-7.78 2.81-2.81c.8-.78.8-2.07 0-2.86zM5.41 20L4 18.59l7.72-7.72 1.47 1.35L5.41 20z\"/>\n",
              "  </svg>\n",
              "      </button>\n",
              "      \n",
              "  <style>\n",
              "    .colab-df-container {\n",
              "      display:flex;\n",
              "      flex-wrap:wrap;\n",
              "      gap: 12px;\n",
              "    }\n",
              "\n",
              "    .colab-df-convert {\n",
              "      background-color: #E8F0FE;\n",
              "      border: none;\n",
              "      border-radius: 50%;\n",
              "      cursor: pointer;\n",
              "      display: none;\n",
              "      fill: #1967D2;\n",
              "      height: 32px;\n",
              "      padding: 0 0 0 0;\n",
              "      width: 32px;\n",
              "    }\n",
              "\n",
              "    .colab-df-convert:hover {\n",
              "      background-color: #E2EBFA;\n",
              "      box-shadow: 0px 1px 2px rgba(60, 64, 67, 0.3), 0px 1px 3px 1px rgba(60, 64, 67, 0.15);\n",
              "      fill: #174EA6;\n",
              "    }\n",
              "\n",
              "    [theme=dark] .colab-df-convert {\n",
              "      background-color: #3B4455;\n",
              "      fill: #D2E3FC;\n",
              "    }\n",
              "\n",
              "    [theme=dark] .colab-df-convert:hover {\n",
              "      background-color: #434B5C;\n",
              "      box-shadow: 0px 1px 3px 1px rgba(0, 0, 0, 0.15);\n",
              "      filter: drop-shadow(0px 1px 2px rgba(0, 0, 0, 0.3));\n",
              "      fill: #FFFFFF;\n",
              "    }\n",
              "  </style>\n",
              "\n",
              "      <script>\n",
              "        const buttonEl =\n",
              "          document.querySelector('#df-2315ef44-c204-4683-997c-a491ed75feda button.colab-df-convert');\n",
              "        buttonEl.style.display =\n",
              "          google.colab.kernel.accessAllowed ? 'block' : 'none';\n",
              "\n",
              "        async function convertToInteractive(key) {\n",
              "          const element = document.querySelector('#df-2315ef44-c204-4683-997c-a491ed75feda');\n",
              "          const dataTable =\n",
              "            await google.colab.kernel.invokeFunction('convertToInteractive',\n",
              "                                                     [key], {});\n",
              "          if (!dataTable) return;\n",
              "\n",
              "          const docLinkHtml = 'Like what you see? Visit the ' +\n",
              "            '<a target=\"_blank\" href=https://colab.research.google.com/notebooks/data_table.ipynb>data table notebook</a>'\n",
              "            + ' to learn more about interactive tables.';\n",
              "          element.innerHTML = '';\n",
              "          dataTable['output_type'] = 'display_data';\n",
              "          await google.colab.output.renderOutput(dataTable, element);\n",
              "          const docLink = document.createElement('div');\n",
              "          docLink.innerHTML = docLinkHtml;\n",
              "          element.appendChild(docLink);\n",
              "        }\n",
              "      </script>\n",
              "    </div>\n",
              "  </div>\n",
              "  "
            ]
          },
          "metadata": {},
          "execution_count": 2
        }
      ]
    },
    {
      "cell_type": "code",
      "source": [
        "df_train = df.loc[df['Country'].isin(['Indonesia'])]\n",
        "display(df_train)"
      ],
      "metadata": {
        "colab": {
          "base_uri": "https://localhost:8080/",
          "height": 455
        },
        "id": "edVoSMtk_gvX",
        "outputId": "97b768df-9efc-4143-fa05-6e525f0a8111"
      },
      "execution_count": 3,
      "outputs": [
        {
          "output_type": "display_data",
          "data": {
            "text/plain": [
              "            AverageTemperature  AverageTemperatureUncertainty    Country\n",
              "dt                                                                      \n",
              "1825-01-01              25.915                          1.825  Indonesia\n",
              "1825-02-01              25.385                          0.973  Indonesia\n",
              "1825-03-01              25.687                          1.656  Indonesia\n",
              "1825-04-01              26.302                          1.897  Indonesia\n",
              "1825-05-01              25.705                          0.902  Indonesia\n",
              "...                        ...                            ...        ...\n",
              "2013-05-01              26.818                          0.154  Indonesia\n",
              "2013-06-01              26.881                          0.248  Indonesia\n",
              "2013-07-01              25.902                          0.164  Indonesia\n",
              "2013-08-01              25.961                          0.319  Indonesia\n",
              "2013-09-01                 NaN                            NaN  Indonesia\n",
              "\n",
              "[2265 rows x 3 columns]"
            ],
            "text/html": [
              "\n",
              "  <div id=\"df-fc9d4e49-fb52-4034-8241-69d6d20a2003\">\n",
              "    <div class=\"colab-df-container\">\n",
              "      <div>\n",
              "<style scoped>\n",
              "    .dataframe tbody tr th:only-of-type {\n",
              "        vertical-align: middle;\n",
              "    }\n",
              "\n",
              "    .dataframe tbody tr th {\n",
              "        vertical-align: top;\n",
              "    }\n",
              "\n",
              "    .dataframe thead th {\n",
              "        text-align: right;\n",
              "    }\n",
              "</style>\n",
              "<table border=\"1\" class=\"dataframe\">\n",
              "  <thead>\n",
              "    <tr style=\"text-align: right;\">\n",
              "      <th></th>\n",
              "      <th>AverageTemperature</th>\n",
              "      <th>AverageTemperatureUncertainty</th>\n",
              "      <th>Country</th>\n",
              "    </tr>\n",
              "    <tr>\n",
              "      <th>dt</th>\n",
              "      <th></th>\n",
              "      <th></th>\n",
              "      <th></th>\n",
              "    </tr>\n",
              "  </thead>\n",
              "  <tbody>\n",
              "    <tr>\n",
              "      <th>1825-01-01</th>\n",
              "      <td>25.915</td>\n",
              "      <td>1.825</td>\n",
              "      <td>Indonesia</td>\n",
              "    </tr>\n",
              "    <tr>\n",
              "      <th>1825-02-01</th>\n",
              "      <td>25.385</td>\n",
              "      <td>0.973</td>\n",
              "      <td>Indonesia</td>\n",
              "    </tr>\n",
              "    <tr>\n",
              "      <th>1825-03-01</th>\n",
              "      <td>25.687</td>\n",
              "      <td>1.656</td>\n",
              "      <td>Indonesia</td>\n",
              "    </tr>\n",
              "    <tr>\n",
              "      <th>1825-04-01</th>\n",
              "      <td>26.302</td>\n",
              "      <td>1.897</td>\n",
              "      <td>Indonesia</td>\n",
              "    </tr>\n",
              "    <tr>\n",
              "      <th>1825-05-01</th>\n",
              "      <td>25.705</td>\n",
              "      <td>0.902</td>\n",
              "      <td>Indonesia</td>\n",
              "    </tr>\n",
              "    <tr>\n",
              "      <th>...</th>\n",
              "      <td>...</td>\n",
              "      <td>...</td>\n",
              "      <td>...</td>\n",
              "    </tr>\n",
              "    <tr>\n",
              "      <th>2013-05-01</th>\n",
              "      <td>26.818</td>\n",
              "      <td>0.154</td>\n",
              "      <td>Indonesia</td>\n",
              "    </tr>\n",
              "    <tr>\n",
              "      <th>2013-06-01</th>\n",
              "      <td>26.881</td>\n",
              "      <td>0.248</td>\n",
              "      <td>Indonesia</td>\n",
              "    </tr>\n",
              "    <tr>\n",
              "      <th>2013-07-01</th>\n",
              "      <td>25.902</td>\n",
              "      <td>0.164</td>\n",
              "      <td>Indonesia</td>\n",
              "    </tr>\n",
              "    <tr>\n",
              "      <th>2013-08-01</th>\n",
              "      <td>25.961</td>\n",
              "      <td>0.319</td>\n",
              "      <td>Indonesia</td>\n",
              "    </tr>\n",
              "    <tr>\n",
              "      <th>2013-09-01</th>\n",
              "      <td>NaN</td>\n",
              "      <td>NaN</td>\n",
              "      <td>Indonesia</td>\n",
              "    </tr>\n",
              "  </tbody>\n",
              "</table>\n",
              "<p>2265 rows × 3 columns</p>\n",
              "</div>\n",
              "      <button class=\"colab-df-convert\" onclick=\"convertToInteractive('df-fc9d4e49-fb52-4034-8241-69d6d20a2003')\"\n",
              "              title=\"Convert this dataframe to an interactive table.\"\n",
              "              style=\"display:none;\">\n",
              "        \n",
              "  <svg xmlns=\"http://www.w3.org/2000/svg\" height=\"24px\"viewBox=\"0 0 24 24\"\n",
              "       width=\"24px\">\n",
              "    <path d=\"M0 0h24v24H0V0z\" fill=\"none\"/>\n",
              "    <path d=\"M18.56 5.44l.94 2.06.94-2.06 2.06-.94-2.06-.94-.94-2.06-.94 2.06-2.06.94zm-11 1L8.5 8.5l.94-2.06 2.06-.94-2.06-.94L8.5 2.5l-.94 2.06-2.06.94zm10 10l.94 2.06.94-2.06 2.06-.94-2.06-.94-.94-2.06-.94 2.06-2.06.94z\"/><path d=\"M17.41 7.96l-1.37-1.37c-.4-.4-.92-.59-1.43-.59-.52 0-1.04.2-1.43.59L10.3 9.45l-7.72 7.72c-.78.78-.78 2.05 0 2.83L4 21.41c.39.39.9.59 1.41.59.51 0 1.02-.2 1.41-.59l7.78-7.78 2.81-2.81c.8-.78.8-2.07 0-2.86zM5.41 20L4 18.59l7.72-7.72 1.47 1.35L5.41 20z\"/>\n",
              "  </svg>\n",
              "      </button>\n",
              "      \n",
              "  <style>\n",
              "    .colab-df-container {\n",
              "      display:flex;\n",
              "      flex-wrap:wrap;\n",
              "      gap: 12px;\n",
              "    }\n",
              "\n",
              "    .colab-df-convert {\n",
              "      background-color: #E8F0FE;\n",
              "      border: none;\n",
              "      border-radius: 50%;\n",
              "      cursor: pointer;\n",
              "      display: none;\n",
              "      fill: #1967D2;\n",
              "      height: 32px;\n",
              "      padding: 0 0 0 0;\n",
              "      width: 32px;\n",
              "    }\n",
              "\n",
              "    .colab-df-convert:hover {\n",
              "      background-color: #E2EBFA;\n",
              "      box-shadow: 0px 1px 2px rgba(60, 64, 67, 0.3), 0px 1px 3px 1px rgba(60, 64, 67, 0.15);\n",
              "      fill: #174EA6;\n",
              "    }\n",
              "\n",
              "    [theme=dark] .colab-df-convert {\n",
              "      background-color: #3B4455;\n",
              "      fill: #D2E3FC;\n",
              "    }\n",
              "\n",
              "    [theme=dark] .colab-df-convert:hover {\n",
              "      background-color: #434B5C;\n",
              "      box-shadow: 0px 1px 3px 1px rgba(0, 0, 0, 0.15);\n",
              "      filter: drop-shadow(0px 1px 2px rgba(0, 0, 0, 0.3));\n",
              "      fill: #FFFFFF;\n",
              "    }\n",
              "  </style>\n",
              "\n",
              "      <script>\n",
              "        const buttonEl =\n",
              "          document.querySelector('#df-fc9d4e49-fb52-4034-8241-69d6d20a2003 button.colab-df-convert');\n",
              "        buttonEl.style.display =\n",
              "          google.colab.kernel.accessAllowed ? 'block' : 'none';\n",
              "\n",
              "        async function convertToInteractive(key) {\n",
              "          const element = document.querySelector('#df-fc9d4e49-fb52-4034-8241-69d6d20a2003');\n",
              "          const dataTable =\n",
              "            await google.colab.kernel.invokeFunction('convertToInteractive',\n",
              "                                                     [key], {});\n",
              "          if (!dataTable) return;\n",
              "\n",
              "          const docLinkHtml = 'Like what you see? Visit the ' +\n",
              "            '<a target=\"_blank\" href=https://colab.research.google.com/notebooks/data_table.ipynb>data table notebook</a>'\n",
              "            + ' to learn more about interactive tables.';\n",
              "          element.innerHTML = '';\n",
              "          dataTable['output_type'] = 'display_data';\n",
              "          await google.colab.output.renderOutput(dataTable, element);\n",
              "          const docLink = document.createElement('div');\n",
              "          docLink.innerHTML = docLinkHtml;\n",
              "          element.appendChild(docLink);\n",
              "        }\n",
              "      </script>\n",
              "    </div>\n",
              "  </div>\n",
              "  "
            ]
          },
          "metadata": {}
        }
      ]
    },
    {
      "cell_type": "code",
      "source": [
        "df_train=df_train.iloc[:,0:1]\n",
        "df_train"
      ],
      "metadata": {
        "colab": {
          "base_uri": "https://localhost:8080/",
          "height": 455
        },
        "id": "tMV8mg92uD8P",
        "outputId": "c6dc1529-0480-46f9-c99b-7ff028fe6274"
      },
      "execution_count": 4,
      "outputs": [
        {
          "output_type": "execute_result",
          "data": {
            "text/plain": [
              "            AverageTemperature\n",
              "dt                            \n",
              "1825-01-01              25.915\n",
              "1825-02-01              25.385\n",
              "1825-03-01              25.687\n",
              "1825-04-01              26.302\n",
              "1825-05-01              25.705\n",
              "...                        ...\n",
              "2013-05-01              26.818\n",
              "2013-06-01              26.881\n",
              "2013-07-01              25.902\n",
              "2013-08-01              25.961\n",
              "2013-09-01                 NaN\n",
              "\n",
              "[2265 rows x 1 columns]"
            ],
            "text/html": [
              "\n",
              "  <div id=\"df-b234d843-2fee-4a19-a376-a534325e125b\">\n",
              "    <div class=\"colab-df-container\">\n",
              "      <div>\n",
              "<style scoped>\n",
              "    .dataframe tbody tr th:only-of-type {\n",
              "        vertical-align: middle;\n",
              "    }\n",
              "\n",
              "    .dataframe tbody tr th {\n",
              "        vertical-align: top;\n",
              "    }\n",
              "\n",
              "    .dataframe thead th {\n",
              "        text-align: right;\n",
              "    }\n",
              "</style>\n",
              "<table border=\"1\" class=\"dataframe\">\n",
              "  <thead>\n",
              "    <tr style=\"text-align: right;\">\n",
              "      <th></th>\n",
              "      <th>AverageTemperature</th>\n",
              "    </tr>\n",
              "    <tr>\n",
              "      <th>dt</th>\n",
              "      <th></th>\n",
              "    </tr>\n",
              "  </thead>\n",
              "  <tbody>\n",
              "    <tr>\n",
              "      <th>1825-01-01</th>\n",
              "      <td>25.915</td>\n",
              "    </tr>\n",
              "    <tr>\n",
              "      <th>1825-02-01</th>\n",
              "      <td>25.385</td>\n",
              "    </tr>\n",
              "    <tr>\n",
              "      <th>1825-03-01</th>\n",
              "      <td>25.687</td>\n",
              "    </tr>\n",
              "    <tr>\n",
              "      <th>1825-04-01</th>\n",
              "      <td>26.302</td>\n",
              "    </tr>\n",
              "    <tr>\n",
              "      <th>1825-05-01</th>\n",
              "      <td>25.705</td>\n",
              "    </tr>\n",
              "    <tr>\n",
              "      <th>...</th>\n",
              "      <td>...</td>\n",
              "    </tr>\n",
              "    <tr>\n",
              "      <th>2013-05-01</th>\n",
              "      <td>26.818</td>\n",
              "    </tr>\n",
              "    <tr>\n",
              "      <th>2013-06-01</th>\n",
              "      <td>26.881</td>\n",
              "    </tr>\n",
              "    <tr>\n",
              "      <th>2013-07-01</th>\n",
              "      <td>25.902</td>\n",
              "    </tr>\n",
              "    <tr>\n",
              "      <th>2013-08-01</th>\n",
              "      <td>25.961</td>\n",
              "    </tr>\n",
              "    <tr>\n",
              "      <th>2013-09-01</th>\n",
              "      <td>NaN</td>\n",
              "    </tr>\n",
              "  </tbody>\n",
              "</table>\n",
              "<p>2265 rows × 1 columns</p>\n",
              "</div>\n",
              "      <button class=\"colab-df-convert\" onclick=\"convertToInteractive('df-b234d843-2fee-4a19-a376-a534325e125b')\"\n",
              "              title=\"Convert this dataframe to an interactive table.\"\n",
              "              style=\"display:none;\">\n",
              "        \n",
              "  <svg xmlns=\"http://www.w3.org/2000/svg\" height=\"24px\"viewBox=\"0 0 24 24\"\n",
              "       width=\"24px\">\n",
              "    <path d=\"M0 0h24v24H0V0z\" fill=\"none\"/>\n",
              "    <path d=\"M18.56 5.44l.94 2.06.94-2.06 2.06-.94-2.06-.94-.94-2.06-.94 2.06-2.06.94zm-11 1L8.5 8.5l.94-2.06 2.06-.94-2.06-.94L8.5 2.5l-.94 2.06-2.06.94zm10 10l.94 2.06.94-2.06 2.06-.94-2.06-.94-.94-2.06-.94 2.06-2.06.94z\"/><path d=\"M17.41 7.96l-1.37-1.37c-.4-.4-.92-.59-1.43-.59-.52 0-1.04.2-1.43.59L10.3 9.45l-7.72 7.72c-.78.78-.78 2.05 0 2.83L4 21.41c.39.39.9.59 1.41.59.51 0 1.02-.2 1.41-.59l7.78-7.78 2.81-2.81c.8-.78.8-2.07 0-2.86zM5.41 20L4 18.59l7.72-7.72 1.47 1.35L5.41 20z\"/>\n",
              "  </svg>\n",
              "      </button>\n",
              "      \n",
              "  <style>\n",
              "    .colab-df-container {\n",
              "      display:flex;\n",
              "      flex-wrap:wrap;\n",
              "      gap: 12px;\n",
              "    }\n",
              "\n",
              "    .colab-df-convert {\n",
              "      background-color: #E8F0FE;\n",
              "      border: none;\n",
              "      border-radius: 50%;\n",
              "      cursor: pointer;\n",
              "      display: none;\n",
              "      fill: #1967D2;\n",
              "      height: 32px;\n",
              "      padding: 0 0 0 0;\n",
              "      width: 32px;\n",
              "    }\n",
              "\n",
              "    .colab-df-convert:hover {\n",
              "      background-color: #E2EBFA;\n",
              "      box-shadow: 0px 1px 2px rgba(60, 64, 67, 0.3), 0px 1px 3px 1px rgba(60, 64, 67, 0.15);\n",
              "      fill: #174EA6;\n",
              "    }\n",
              "\n",
              "    [theme=dark] .colab-df-convert {\n",
              "      background-color: #3B4455;\n",
              "      fill: #D2E3FC;\n",
              "    }\n",
              "\n",
              "    [theme=dark] .colab-df-convert:hover {\n",
              "      background-color: #434B5C;\n",
              "      box-shadow: 0px 1px 3px 1px rgba(0, 0, 0, 0.15);\n",
              "      filter: drop-shadow(0px 1px 2px rgba(0, 0, 0, 0.3));\n",
              "      fill: #FFFFFF;\n",
              "    }\n",
              "  </style>\n",
              "\n",
              "      <script>\n",
              "        const buttonEl =\n",
              "          document.querySelector('#df-b234d843-2fee-4a19-a376-a534325e125b button.colab-df-convert');\n",
              "        buttonEl.style.display =\n",
              "          google.colab.kernel.accessAllowed ? 'block' : 'none';\n",
              "\n",
              "        async function convertToInteractive(key) {\n",
              "          const element = document.querySelector('#df-b234d843-2fee-4a19-a376-a534325e125b');\n",
              "          const dataTable =\n",
              "            await google.colab.kernel.invokeFunction('convertToInteractive',\n",
              "                                                     [key], {});\n",
              "          if (!dataTable) return;\n",
              "\n",
              "          const docLinkHtml = 'Like what you see? Visit the ' +\n",
              "            '<a target=\"_blank\" href=https://colab.research.google.com/notebooks/data_table.ipynb>data table notebook</a>'\n",
              "            + ' to learn more about interactive tables.';\n",
              "          element.innerHTML = '';\n",
              "          dataTable['output_type'] = 'display_data';\n",
              "          await google.colab.output.renderOutput(dataTable, element);\n",
              "          const docLink = document.createElement('div');\n",
              "          docLink.innerHTML = docLinkHtml;\n",
              "          element.appendChild(docLink);\n",
              "        }\n",
              "      </script>\n",
              "    </div>\n",
              "  </div>\n",
              "  "
            ]
          },
          "metadata": {},
          "execution_count": 4
        }
      ]
    },
    {
      "cell_type": "markdown",
      "source": [
        "# Data Prepocessing"
      ],
      "metadata": {
        "id": "NrbN0tPNNFD3"
      }
    },
    {
      "cell_type": "code",
      "source": [
        "#Menghitung nilai null\n",
        "df_train.isnull().sum()"
      ],
      "metadata": {
        "colab": {
          "base_uri": "https://localhost:8080/"
        },
        "id": "znJ1opUs_Zjc",
        "outputId": "54c175ce-e4b5-43c0-e1ef-2897efbc8c76"
      },
      "execution_count": 5,
      "outputs": [
        {
          "output_type": "execute_result",
          "data": {
            "text/plain": [
              "AverageTemperature    386\n",
              "dtype: int64"
            ]
          },
          "metadata": {},
          "execution_count": 5
        }
      ]
    },
    {
      "cell_type": "code",
      "source": [
        "#Mengganti nilai null\n",
        "miss_mean_imputer = SimpleImputer(missing_values=np.nan, strategy='most_frequent')\n",
        "miss_mean_imputer = miss_mean_imputer.fit(df_train)\n",
        "df_train_imputed = miss_mean_imputer.transform(df_train.values)"
      ],
      "metadata": {
        "colab": {
          "base_uri": "https://localhost:8080/"
        },
        "id": "5aY6MBzpwVj_",
        "outputId": "aa9bf29d-10a9-4dcc-f0c0-85e1329e1e9a"
      },
      "execution_count": 6,
      "outputs": [
        {
          "output_type": "stream",
          "name": "stderr",
          "text": [
            "/usr/local/lib/python3.7/dist-packages/sklearn/base.py:451: UserWarning: X does not have valid feature names, but SimpleImputer was fitted with feature names\n",
            "  \"X does not have valid feature names, but\"\n"
          ]
        }
      ]
    },
    {
      "cell_type": "code",
      "source": [
        "#Memisahkan data tanggal dan data temperatur\n",
        "date = df_train.reset_index(level=0)\n",
        "date = date['dt']\n",
        "\n",
        "values = df_train_imputed\n",
        "temp = values.reshape((len(values), 1))"
      ],
      "metadata": {
        "id": "4gAq9qS1BwNM"
      },
      "execution_count": 7,
      "outputs": []
    },
    {
      "cell_type": "code",
      "source": [
        "plt.figure(figsize=(15,5))\n",
        "plt.plot(date, temp)\n",
        "plt.title('Temperature average',\n",
        "          fontsize=20);"
      ],
      "metadata": {
        "colab": {
          "base_uri": "https://localhost:8080/",
          "height": 341
        },
        "id": "oZ9BCQf3_iDm",
        "outputId": "d1805927-2bd5-4a61-a3d4-b3b9d1202327"
      },
      "execution_count": 8,
      "outputs": [
        {
          "output_type": "display_data",
          "data": {
            "text/plain": [
              "<Figure size 1080x360 with 1 Axes>"
            ],
            "image/png": "[encoded data removed]"
          },
          "metadata": {
            "needs_background": "light"
          }
        }
      ]
    },
    {
      "cell_type": "code",
      "source": [
        "#Normalisasi data temperatur dengan MinMaxScaler\n",
        "\n",
        "scaler = MinMaxScaler(feature_range=(0, 1))\n",
        "scaler = scaler.fit(temp)\n",
        "temp_normalized = scaler.transform(temp)\n",
        "temp_normalized"
      ],
      "metadata": {
        "colab": {
          "base_uri": "https://localhost:8080/"
        },
        "id": "IXaxNlSr6Gsz",
        "outputId": "0b4e1e1c-5254-4ccf-b3b0-c425311baa17"
      },
      "execution_count": 9,
      "outputs": [
        {
          "output_type": "execute_result",
          "data": {
            "text/plain": [
              "array([[0.58297759],\n",
              "       [0.44156884],\n",
              "       [0.52214514],\n",
              "       ...,\n",
              "       [0.57950907],\n",
              "       [0.5952508 ],\n",
              "       [0.40101387]])"
            ]
          },
          "metadata": {},
          "execution_count": 9
        }
      ]
    },
    {
      "cell_type": "code",
      "source": [
        "#Menghitung nilai ambang batas dari data\n",
        "threshold_mae = (temp_normalized.max() - temp_normalized.min()) * 10/100\n",
        "print(threshold_mae)"
      ],
      "metadata": {
        "colab": {
          "base_uri": "https://localhost:8080/"
        },
        "id": "qUbJodacBqJg",
        "outputId": "d019ad71-090d-4d0e-b002-1feb81673373"
      },
      "execution_count": 10,
      "outputs": [
        {
          "output_type": "stream",
          "name": "stdout",
          "text": [
            "0.1\n"
          ]
        }
      ]
    },
    {
      "cell_type": "markdown",
      "source": [
        "# Splitting and Transform Data"
      ],
      "metadata": {
        "id": "SC77kR1wM3jC"
      }
    },
    {
      "cell_type": "code",
      "source": [
        "x_train, x_test, y_train, y_test = train_test_split(temp_normalized, date, test_size = 0.2, shuffle = False )"
      ],
      "metadata": {
        "id": "7RUSzGyw0spc"
      },
      "execution_count": 11,
      "outputs": []
    },
    {
      "cell_type": "code",
      "source": [
        "def windowed_dataset(series, window_size, batch_size, shuffle_buffer):\n",
        "    series = tf.expand_dims(series, axis=-1)\n",
        "    ds = tf.data.Dataset.from_tensor_slices(series)\n",
        "    ds = ds.window(window_size + 1, shift=1, drop_remainder=True)\n",
        "    ds = ds.flat_map(lambda w: w.batch(window_size + 1))\n",
        "    ds = ds.shuffle(shuffle_buffer)\n",
        "    ds = ds.map(lambda w: (w[:-1], w[-1:]))\n",
        "    return ds.batch(batch_size).prefetch(1)"
      ],
      "metadata": {
        "id": "hlng6LYm_j9Q"
      },
      "execution_count": 12,
      "outputs": []
    },
    {
      "cell_type": "code",
      "source": [
        "train_set = windowed_dataset(x_train, window_size=64, batch_size=32, shuffle_buffer=1000)\n",
        "val_set = windowed_dataset(x_test, window_size=64, batch_size=32, shuffle_buffer=1000)"
      ],
      "metadata": {
        "id": "_yO0VNNg22Hq"
      },
      "execution_count": 13,
      "outputs": []
    },
    {
      "cell_type": "markdown",
      "source": [
        "# Modeling"
      ],
      "metadata": {
        "id": "eEp3kHOpMkYf"
      }
    },
    {
      "cell_type": "code",
      "source": [
        "model = tf.keras.models.Sequential([\n",
        "  tf.keras.layers.LSTM(60, return_sequences=True, input_shape=(64,1)),\n",
        "\n",
        "  tf.keras.layers.Dense(32, activation=\"relu\"),\n",
        "  tf.keras.layers.Dropout(0.09),\n",
        "  tf.keras.layers.Dense(1),\n",
        "])"
      ],
      "metadata": {
        "id": "YPBSlsOK_oIy"
      },
      "execution_count": 14,
      "outputs": []
    },
    {
      "cell_type": "code",
      "source": [
        "optimizer = tf.keras.optimizers.SGD(lr=1.0000e-04, momentum=0.9)\n",
        "model.compile(loss=tf.keras.losses.Huber(),\n",
        "              optimizer=optimizer,\n",
        "              metrics=[\"mae\"])\n",
        "history = model.fit(train_set,\n",
        "                    validation_data = val_set, \n",
        "                    epochs=100,                  \n",
        "                    verbose=1)"
      ],
      "metadata": {
        "colab": {
          "base_uri": "https://localhost:8080/"
        },
        "id": "WAmk91fy_xFD",
        "outputId": "1ec4fcbd-616b-40e9-bdaa-a5663e384fd7"
      },
      "execution_count": 15,
      "outputs": [
        {
          "output_type": "stream",
          "name": "stdout",
          "text": [
            "Epoch 1/100\n"
          ]
        },
        {
          "output_type": "stream",
          "name": "stderr",
          "text": [
            "/usr/local/lib/python3.7/dist-packages/keras/optimizers/optimizer_v2/gradient_descent.py:108: UserWarning: The `lr` argument is deprecated, use `learning_rate` instead.\n",
            "  super(SGD, self).__init__(name, **kwargs)\n"
          ]
        },
        {
          "output_type": "stream",
          "name": "stdout",
          "text": [
            "55/55 [==============================] - 5s 28ms/step - loss: 0.1311 - mae: 0.4986 - val_loss: 0.2476 - val_mae: 0.6975\n",
            "Epoch 2/100\n",
            "55/55 [==============================] - 1s 12ms/step - loss: 0.1024 - mae: 0.4377 - val_loss: 0.2077 - val_mae: 0.6377\n",
            "Epoch 3/100\n",
            "55/55 [==============================] - 1s 11ms/step - loss: 0.0806 - mae: 0.3850 - val_loss: 0.1760 - val_mae: 0.5860\n",
            "Epoch 4/100\n",
            "55/55 [==============================] - 1s 11ms/step - loss: 0.0636 - mae: 0.3381 - val_loss: 0.1489 - val_mae: 0.5378\n",
            "Epoch 5/100\n",
            "55/55 [==============================] - 1s 11ms/step - loss: 0.0509 - mae: 0.2987 - val_loss: 0.1277 - val_mae: 0.4968\n",
            "Epoch 6/100\n",
            "55/55 [==============================] - 1s 11ms/step - loss: 0.0410 - mae: 0.2644 - val_loss: 0.1106 - val_mae: 0.4610\n",
            "Epoch 7/100\n",
            "55/55 [==============================] - 1s 12ms/step - loss: 0.0327 - mae: 0.2313 - val_loss: 0.0947 - val_mae: 0.4253\n",
            "Epoch 8/100\n",
            "55/55 [==============================] - 1s 11ms/step - loss: 0.0262 - mae: 0.2024 - val_loss: 0.0820 - val_mae: 0.3940\n",
            "Epoch 9/100\n",
            "55/55 [==============================] - 1s 11ms/step - loss: 0.0214 - mae: 0.1782 - val_loss: 0.0718 - val_mae: 0.3673\n",
            "Epoch 10/100\n",
            "55/55 [==============================] - 1s 11ms/step - loss: 0.0177 - mae: 0.1580 - val_loss: 0.0636 - val_mae: 0.3443\n",
            "Epoch 11/100\n",
            "55/55 [==============================] - 1s 11ms/step - loss: 0.0150 - mae: 0.1413 - val_loss: 0.0570 - val_mae: 0.3245\n",
            "Epoch 12/100\n",
            "55/55 [==============================] - 1s 12ms/step - loss: 0.0130 - mae: 0.1279 - val_loss: 0.0516 - val_mae: 0.3073\n",
            "Epoch 13/100\n",
            "55/55 [==============================] - 1s 12ms/step - loss: 0.0115 - mae: 0.1170 - val_loss: 0.0471 - val_mae: 0.2923\n",
            "Epoch 14/100\n",
            "55/55 [==============================] - 1s 11ms/step - loss: 0.0103 - mae: 0.1084 - val_loss: 0.0434 - val_mae: 0.2793\n",
            "Epoch 15/100\n",
            "55/55 [==============================] - 1s 11ms/step - loss: 0.0095 - mae: 0.1030 - val_loss: 0.0404 - val_mae: 0.2682\n",
            "Epoch 16/100\n",
            "55/55 [==============================] - 1s 11ms/step - loss: 0.0089 - mae: 0.0998 - val_loss: 0.0378 - val_mae: 0.2585\n",
            "Epoch 17/100\n",
            "55/55 [==============================] - 1s 11ms/step - loss: 0.0084 - mae: 0.0975 - val_loss: 0.0357 - val_mae: 0.2503\n",
            "Epoch 18/100\n",
            "55/55 [==============================] - 1s 11ms/step - loss: 0.0081 - mae: 0.0963 - val_loss: 0.0339 - val_mae: 0.2429\n",
            "Epoch 19/100\n",
            "55/55 [==============================] - 1s 12ms/step - loss: 0.0078 - mae: 0.0951 - val_loss: 0.0323 - val_mae: 0.2366\n",
            "Epoch 20/100\n",
            "55/55 [==============================] - 1s 12ms/step - loss: 0.0076 - mae: 0.0943 - val_loss: 0.0311 - val_mae: 0.2313\n",
            "Epoch 21/100\n",
            "55/55 [==============================] - 1s 11ms/step - loss: 0.0075 - mae: 0.0940 - val_loss: 0.0300 - val_mae: 0.2265\n",
            "Epoch 22/100\n",
            "55/55 [==============================] - 1s 12ms/step - loss: 0.0073 - mae: 0.0935 - val_loss: 0.0290 - val_mae: 0.2222\n",
            "Epoch 23/100\n",
            "55/55 [==============================] - 1s 12ms/step - loss: 0.0072 - mae: 0.0930 - val_loss: 0.0282 - val_mae: 0.2186\n",
            "Epoch 24/100\n",
            "55/55 [==============================] - 1s 12ms/step - loss: 0.0072 - mae: 0.0931 - val_loss: 0.0275 - val_mae: 0.2154\n",
            "Epoch 25/100\n",
            "55/55 [==============================] - 1s 12ms/step - loss: 0.0071 - mae: 0.0928 - val_loss: 0.0270 - val_mae: 0.2128\n",
            "Epoch 26/100\n",
            "55/55 [==============================] - 1s 12ms/step - loss: 0.0071 - mae: 0.0929 - val_loss: 0.0265 - val_mae: 0.2105\n",
            "Epoch 27/100\n",
            "55/55 [==============================] - 1s 12ms/step - loss: 0.0070 - mae: 0.0929 - val_loss: 0.0260 - val_mae: 0.2081\n",
            "Epoch 28/100\n",
            "55/55 [==============================] - 1s 11ms/step - loss: 0.0070 - mae: 0.0927 - val_loss: 0.0255 - val_mae: 0.2060\n",
            "Epoch 29/100\n",
            "55/55 [==============================] - 1s 12ms/step - loss: 0.0070 - mae: 0.0929 - val_loss: 0.0252 - val_mae: 0.2043\n",
            "Epoch 30/100\n",
            "55/55 [==============================] - 1s 12ms/step - loss: 0.0069 - mae: 0.0926 - val_loss: 0.0249 - val_mae: 0.2029\n",
            "Epoch 31/100\n",
            "55/55 [==============================] - 1s 11ms/step - loss: 0.0069 - mae: 0.0925 - val_loss: 0.0246 - val_mae: 0.2016\n",
            "Epoch 32/100\n",
            "55/55 [==============================] - 1s 12ms/step - loss: 0.0069 - mae: 0.0926 - val_loss: 0.0244 - val_mae: 0.2005\n",
            "Epoch 33/100\n",
            "55/55 [==============================] - 1s 12ms/step - loss: 0.0069 - mae: 0.0925 - val_loss: 0.0241 - val_mae: 0.1993\n",
            "Epoch 34/100\n",
            "55/55 [==============================] - 1s 11ms/step - loss: 0.0069 - mae: 0.0925 - val_loss: 0.0240 - val_mae: 0.1985\n",
            "Epoch 35/100\n",
            "55/55 [==============================] - 1s 12ms/step - loss: 0.0069 - mae: 0.0925 - val_loss: 0.0238 - val_mae: 0.1974\n",
            "Epoch 36/100\n",
            "55/55 [==============================] - 1s 11ms/step - loss: 0.0069 - mae: 0.0926 - val_loss: 0.0236 - val_mae: 0.1967\n",
            "Epoch 37/100\n",
            "55/55 [==============================] - 1s 11ms/step - loss: 0.0068 - mae: 0.0923 - val_loss: 0.0235 - val_mae: 0.1962\n",
            "Epoch 38/100\n",
            "55/55 [==============================] - 1s 11ms/step - loss: 0.0068 - mae: 0.0922 - val_loss: 0.0233 - val_mae: 0.1953\n",
            "Epoch 39/100\n",
            "55/55 [==============================] - 1s 11ms/step - loss: 0.0068 - mae: 0.0924 - val_loss: 0.0232 - val_mae: 0.1947\n",
            "Epoch 40/100\n",
            "55/55 [==============================] - 1s 11ms/step - loss: 0.0068 - mae: 0.0921 - val_loss: 0.0231 - val_mae: 0.1941\n",
            "Epoch 41/100\n",
            "55/55 [==============================] - 1s 11ms/step - loss: 0.0068 - mae: 0.0922 - val_loss: 0.0230 - val_mae: 0.1935\n",
            "Epoch 42/100\n",
            "55/55 [==============================] - 1s 11ms/step - loss: 0.0068 - mae: 0.0923 - val_loss: 0.0229 - val_mae: 0.1931\n",
            "Epoch 43/100\n",
            "55/55 [==============================] - 1s 11ms/step - loss: 0.0068 - mae: 0.0922 - val_loss: 0.0228 - val_mae: 0.1928\n",
            "Epoch 44/100\n",
            "55/55 [==============================] - 1s 11ms/step - loss: 0.0068 - mae: 0.0920 - val_loss: 0.0228 - val_mae: 0.1924\n",
            "Epoch 45/100\n",
            "55/55 [==============================] - 1s 11ms/step - loss: 0.0068 - mae: 0.0919 - val_loss: 0.0227 - val_mae: 0.1919\n",
            "Epoch 46/100\n",
            "55/55 [==============================] - 1s 12ms/step - loss: 0.0068 - mae: 0.0919 - val_loss: 0.0226 - val_mae: 0.1917\n",
            "Epoch 47/100\n",
            "55/55 [==============================] - 1s 11ms/step - loss: 0.0067 - mae: 0.0917 - val_loss: 0.0225 - val_mae: 0.1913\n",
            "Epoch 48/100\n",
            "55/55 [==============================] - 1s 11ms/step - loss: 0.0067 - mae: 0.0918 - val_loss: 0.0225 - val_mae: 0.1909\n",
            "Epoch 49/100\n",
            "55/55 [==============================] - 1s 11ms/step - loss: 0.0068 - mae: 0.0919 - val_loss: 0.0224 - val_mae: 0.1907\n",
            "Epoch 50/100\n",
            "55/55 [==============================] - 1s 11ms/step - loss: 0.0067 - mae: 0.0916 - val_loss: 0.0224 - val_mae: 0.1904\n",
            "Epoch 51/100\n",
            "55/55 [==============================] - 1s 12ms/step - loss: 0.0067 - mae: 0.0915 - val_loss: 0.0223 - val_mae: 0.1901\n",
            "Epoch 52/100\n",
            "55/55 [==============================] - 1s 12ms/step - loss: 0.0067 - mae: 0.0917 - val_loss: 0.0223 - val_mae: 0.1899\n",
            "Epoch 53/100\n",
            "55/55 [==============================] - 1s 11ms/step - loss: 0.0067 - mae: 0.0915 - val_loss: 0.0222 - val_mae: 0.1896\n",
            "Epoch 54/100\n",
            "55/55 [==============================] - 1s 11ms/step - loss: 0.0067 - mae: 0.0916 - val_loss: 0.0222 - val_mae: 0.1894\n",
            "Epoch 55/100\n",
            "55/55 [==============================] - 1s 11ms/step - loss: 0.0067 - mae: 0.0914 - val_loss: 0.0221 - val_mae: 0.1892\n",
            "Epoch 56/100\n",
            "55/55 [==============================] - 1s 11ms/step - loss: 0.0067 - mae: 0.0914 - val_loss: 0.0221 - val_mae: 0.1891\n",
            "Epoch 57/100\n",
            "55/55 [==============================] - 1s 12ms/step - loss: 0.0067 - mae: 0.0914 - val_loss: 0.0221 - val_mae: 0.1889\n",
            "Epoch 58/100\n",
            "55/55 [==============================] - 1s 12ms/step - loss: 0.0066 - mae: 0.0911 - val_loss: 0.0220 - val_mae: 0.1887\n",
            "Epoch 59/100\n",
            "55/55 [==============================] - 1s 11ms/step - loss: 0.0067 - mae: 0.0913 - val_loss: 0.0220 - val_mae: 0.1887\n",
            "Epoch 60/100\n",
            "55/55 [==============================] - 1s 13ms/step - loss: 0.0067 - mae: 0.0917 - val_loss: 0.0220 - val_mae: 0.1883\n",
            "Epoch 61/100\n",
            "55/55 [==============================] - 1s 12ms/step - loss: 0.0067 - mae: 0.0913 - val_loss: 0.0220 - val_mae: 0.1884\n",
            "Epoch 62/100\n",
            "55/55 [==============================] - 1s 13ms/step - loss: 0.0067 - mae: 0.0911 - val_loss: 0.0219 - val_mae: 0.1882\n",
            "Epoch 63/100\n",
            "55/55 [==============================] - 1s 13ms/step - loss: 0.0066 - mae: 0.0910 - val_loss: 0.0219 - val_mae: 0.1879\n",
            "Epoch 64/100\n",
            "55/55 [==============================] - 1s 12ms/step - loss: 0.0067 - mae: 0.0912 - val_loss: 0.0219 - val_mae: 0.1879\n",
            "Epoch 65/100\n",
            "55/55 [==============================] - 1s 11ms/step - loss: 0.0066 - mae: 0.0911 - val_loss: 0.0218 - val_mae: 0.1877\n",
            "Epoch 66/100\n",
            "55/55 [==============================] - 1s 12ms/step - loss: 0.0066 - mae: 0.0909 - val_loss: 0.0218 - val_mae: 0.1876\n",
            "Epoch 67/100\n",
            "55/55 [==============================] - 1s 11ms/step - loss: 0.0066 - mae: 0.0911 - val_loss: 0.0218 - val_mae: 0.1876\n",
            "Epoch 68/100\n",
            "55/55 [==============================] - 1s 12ms/step - loss: 0.0066 - mae: 0.0910 - val_loss: 0.0218 - val_mae: 0.1874\n",
            "Epoch 69/100\n",
            "55/55 [==============================] - 1s 11ms/step - loss: 0.0066 - mae: 0.0909 - val_loss: 0.0217 - val_mae: 0.1872\n",
            "Epoch 70/100\n",
            "55/55 [==============================] - 1s 12ms/step - loss: 0.0066 - mae: 0.0907 - val_loss: 0.0217 - val_mae: 0.1869\n",
            "Epoch 71/100\n",
            "55/55 [==============================] - 1s 11ms/step - loss: 0.0066 - mae: 0.0907 - val_loss: 0.0217 - val_mae: 0.1869\n",
            "Epoch 72/100\n",
            "55/55 [==============================] - 1s 12ms/step - loss: 0.0066 - mae: 0.0908 - val_loss: 0.0217 - val_mae: 0.1868\n",
            "Epoch 73/100\n",
            "55/55 [==============================] - 1s 11ms/step - loss: 0.0066 - mae: 0.0907 - val_loss: 0.0217 - val_mae: 0.1868\n",
            "Epoch 74/100\n",
            "55/55 [==============================] - 1s 11ms/step - loss: 0.0066 - mae: 0.0908 - val_loss: 0.0216 - val_mae: 0.1867\n",
            "Epoch 75/100\n",
            "55/55 [==============================] - 1s 19ms/step - loss: 0.0066 - mae: 0.0907 - val_loss: 0.0216 - val_mae: 0.1864\n",
            "Epoch 76/100\n",
            "55/55 [==============================] - 1s 19ms/step - loss: 0.0066 - mae: 0.0908 - val_loss: 0.0216 - val_mae: 0.1863\n",
            "Epoch 77/100\n",
            "55/55 [==============================] - 1s 18ms/step - loss: 0.0066 - mae: 0.0906 - val_loss: 0.0216 - val_mae: 0.1863\n",
            "Epoch 78/100\n",
            "55/55 [==============================] - 1s 12ms/step - loss: 0.0066 - mae: 0.0905 - val_loss: 0.0215 - val_mae: 0.1861\n",
            "Epoch 79/100\n",
            "55/55 [==============================] - 1s 11ms/step - loss: 0.0065 - mae: 0.0904 - val_loss: 0.0215 - val_mae: 0.1861\n",
            "Epoch 80/100\n",
            "55/55 [==============================] - 1s 11ms/step - loss: 0.0065 - mae: 0.0904 - val_loss: 0.0215 - val_mae: 0.1859\n",
            "Epoch 81/100\n",
            "55/55 [==============================] - 1s 12ms/step - loss: 0.0065 - mae: 0.0905 - val_loss: 0.0215 - val_mae: 0.1860\n",
            "Epoch 82/100\n",
            "55/55 [==============================] - 1s 11ms/step - loss: 0.0065 - mae: 0.0905 - val_loss: 0.0214 - val_mae: 0.1857\n",
            "Epoch 83/100\n",
            "55/55 [==============================] - 1s 12ms/step - loss: 0.0065 - mae: 0.0905 - val_loss: 0.0215 - val_mae: 0.1859\n",
            "Epoch 84/100\n",
            "55/55 [==============================] - 1s 11ms/step - loss: 0.0065 - mae: 0.0902 - val_loss: 0.0214 - val_mae: 0.1857\n",
            "Epoch 85/100\n",
            "55/55 [==============================] - 1s 12ms/step - loss: 0.0065 - mae: 0.0904 - val_loss: 0.0214 - val_mae: 0.1855\n",
            "Epoch 86/100\n",
            "55/55 [==============================] - 1s 11ms/step - loss: 0.0065 - mae: 0.0904 - val_loss: 0.0214 - val_mae: 0.1854\n",
            "Epoch 87/100\n",
            "55/55 [==============================] - 1s 12ms/step - loss: 0.0065 - mae: 0.0903 - val_loss: 0.0214 - val_mae: 0.1853\n",
            "Epoch 88/100\n",
            "55/55 [==============================] - 1s 11ms/step - loss: 0.0065 - mae: 0.0902 - val_loss: 0.0213 - val_mae: 0.1853\n",
            "Epoch 89/100\n",
            "55/55 [==============================] - 1s 11ms/step - loss: 0.0065 - mae: 0.0903 - val_loss: 0.0213 - val_mae: 0.1853\n",
            "Epoch 90/100\n",
            "55/55 [==============================] - 1s 12ms/step - loss: 0.0065 - mae: 0.0901 - val_loss: 0.0213 - val_mae: 0.1852\n",
            "Epoch 91/100\n",
            "55/55 [==============================] - 1s 12ms/step - loss: 0.0065 - mae: 0.0901 - val_loss: 0.0213 - val_mae: 0.1851\n",
            "Epoch 92/100\n",
            "55/55 [==============================] - 1s 12ms/step - loss: 0.0065 - mae: 0.0901 - val_loss: 0.0213 - val_mae: 0.1851\n",
            "Epoch 93/100\n",
            "55/55 [==============================] - 1s 12ms/step - loss: 0.0065 - mae: 0.0901 - val_loss: 0.0213 - val_mae: 0.1849\n",
            "Epoch 94/100\n",
            "55/55 [==============================] - 1s 12ms/step - loss: 0.0065 - mae: 0.0900 - val_loss: 0.0213 - val_mae: 0.1848\n",
            "Epoch 95/100\n",
            "55/55 [==============================] - 1s 11ms/step - loss: 0.0065 - mae: 0.0899 - val_loss: 0.0212 - val_mae: 0.1848\n",
            "Epoch 96/100\n",
            "55/55 [==============================] - 1s 12ms/step - loss: 0.0065 - mae: 0.0900 - val_loss: 0.0213 - val_mae: 0.1849\n",
            "Epoch 97/100\n",
            "55/55 [==============================] - 1s 12ms/step - loss: 0.0065 - mae: 0.0899 - val_loss: 0.0213 - val_mae: 0.1849\n",
            "Epoch 98/100\n",
            "55/55 [==============================] - 1s 11ms/step - loss: 0.0065 - mae: 0.0899 - val_loss: 0.0212 - val_mae: 0.1847\n",
            "Epoch 99/100\n",
            "55/55 [==============================] - 1s 12ms/step - loss: 0.0065 - mae: 0.0898 - val_loss: 0.0212 - val_mae: 0.1845\n",
            "Epoch 100/100\n",
            "55/55 [==============================] - 1s 11ms/step - loss: 0.0065 - mae: 0.0898 - val_loss: 0.0212 - val_mae: 0.1845\n"
          ]
        }
      ]
    },
    {
      "cell_type": "markdown",
      "source": [
        "# Plotting Validation"
      ],
      "metadata": {
        "id": "MbNvWpSrORZ0"
      }
    },
    {
      "cell_type": "code",
      "source": [
        "#membuat grafik model accuracy dan model loss\n",
        "def plotmodelhistory(history): \n",
        "    fig, axs = plt.subplots(1,2,figsize=(15,5)) \n",
        "    # menjumlahkan nilai accuracy\n",
        "    axs[0].plot(history.history['mae']) \n",
        "    axs[0].plot(history.history['val_mae']) \n",
        "    axs[0].set_title('Model MAE')\n",
        "    axs[0].set_ylabel('MAE') \n",
        "    axs[0].set_xlabel('Epoch')\n",
        "    axs[0].legend(['train', 'validate'], loc='upper left')\n",
        "    # menjumlahkan nilai loss\n",
        "    axs[1].plot(history.history['loss']) \n",
        "    axs[1].plot(history.history['val_loss']) \n",
        "    axs[1].set_title('Model Loss')\n",
        "    axs[1].set_ylabel('Loss') \n",
        "    axs[1].set_xlabel('Epoch')\n",
        "    axs[1].legend(['train', 'validate'], loc='upper left')\n",
        "    plt.show()\n",
        "\n",
        "\n",
        "print(history.history.keys())\n",
        "plotmodelhistory(history)"
      ],
      "metadata": {
        "id": "ZGZSFRFQOQTp",
        "colab": {
          "base_uri": "https://localhost:8080/",
          "height": 367
        },
        "outputId": "1101a07c-17fe-4f01-e440-8a1fb7967a99"
      },
      "execution_count": 16,
      "outputs": [
        {
          "output_type": "stream",
          "name": "stdout",
          "text": [
            "dict_keys(['loss', 'mae', 'val_loss', 'val_mae'])\n"
          ]
        },
        {
          "output_type": "display_data",
          "data": {
            "text/plain": [
              "<Figure size 1080x360 with 2 Axes>"
            ],
            "image/png": "[encoded data removed]"
          },
          "metadata": {
            "needs_background": "light"
          }
        }
      ]
    }
  ]
}